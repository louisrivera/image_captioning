{
 "cells": [
  {
   "cell_type": "code",
   "execution_count": 1,
   "metadata": {},
   "outputs": [
    {
     "name": "stdout",
     "output_type": "stream",
     "text": [
      "This is a test?12\n"
     ]
    }
   ],
   "source": [
    "a,b = input('This is a test?')\n"
   ]
  },
  {
   "cell_type": "code",
   "execution_count": 2,
   "metadata": {},
   "outputs": [
    {
     "data": {
      "text/plain": [
       "'1'"
      ]
     },
     "execution_count": 2,
     "metadata": {},
     "output_type": "execute_result"
    }
   ],
   "source": [
    "a"
   ]
  },
  {
   "cell_type": "code",
   "execution_count": 3,
   "metadata": {},
   "outputs": [
    {
     "data": {
      "text/plain": [
       "'2'"
      ]
     },
     "execution_count": 3,
     "metadata": {},
     "output_type": "execute_result"
    }
   ],
   "source": [
    "b"
   ]
  },
  {
   "cell_type": "code",
   "execution_count": 11,
   "metadata": {},
   "outputs": [],
   "source": [
    "import requests\n",
    "from bs4 import BeautifulSoup\n",
    "from urllib.request import urlopen as uReq\n",
    "import numpy as np\n",
    "import pandas as pd\n",
    "import re\n",
    "import time\n",
    "import csv\n",
    "import os\n",
    "import json\n",
    "import urllib\n",
    "import pickle\n",
    "import pymongo\n",
    "from pymongo import MongoClient\n",
    "import pprint\n",
    "from bson import json_util\n",
    "import json\n",
    "import pickle\n",
    "import pprint"
   ]
  },
  {
   "cell_type": "code",
   "execution_count": 12,
   "metadata": {},
   "outputs": [
    {
     "name": "stdout",
     "output_type": "stream",
     "text": [
      "{'db': 'capstone_project', 'collections': 2, 'views': 0, 'objects': 60003, 'avgObjSize': 5083.1338433078345, 'dataSize': 305003280.0, 'storageSize': 106733568.0, 'numExtents': 0, 'indexes': 2, 'indexSize': 651264.0, 'fsUsedSize': 82854359040.0, 'fsTotalSize': 499963170816.0, 'ok': 1.0}\n"
     ]
    }
   ],
   "source": [
    "from pymongo import MongoClient\n",
    "\n",
    "client = MongoClient()\n",
    "db = client.capstone_project\n",
    "\n",
    "# print collection statistics\n",
    "# print (db.command(\"collstats\"))\n",
    "\n",
    "# print database statistics\n",
    "print (db.command(\"dbstats\"))"
   ]
  },
  {
   "cell_type": "code",
   "execution_count": null,
   "metadata": {},
   "outputs": [],
   "source": []
  },
  {
   "cell_type": "code",
   "execution_count": 75,
   "metadata": {},
   "outputs": [
    {
     "data": {
      "text/plain": [
       "{'_id': ObjectId('5a514a0095cdbc13b4a60726'),\n",
       " 'addToCartUrl': 'http://c.affil.walmart.com/t/api01?l=http%3A%2F%2Faffil.walmart.com%2Fcart%2FaddToCart%3Fitems%3D34953581%7C1%26affp1%3DEyJ2pD5bvQhSw0Bdth4-NPmOX17ATelCjl1M0_dPIfo%26affilsrc%3Dapi%26veh%3Daff%26wmlspartner%3Dreadonlyapi',\n",
       " 'affiliateAddToCartUrl': 'http://linksynergy.walmart.com/fs-bin/click?id=|LSNID|&offerid=223073.7200&type=14&catid=8&subid=0&hid=7200&tmpid=1082&RD_PARM1=http%253A%252F%252Faffil.walmart.com%252Fcart%252FaddToCart%253Fitems%253D34953581%257C1%2526affp1%253DEyJ2pD5bvQhSw0Bdth4-NPmOX17ATelCjl1M0_dPIfo%2526affilsrc%253Dapi',\n",
       " 'attributes': {'actualColor': 'Charcoal',\n",
       "  'color': 'Gray',\n",
       "  'finerCateg': 'Armchairs'},\n",
       " 'availableOnline': False,\n",
       " 'brandName': '10 Spring Street',\n",
       " 'bundle': False,\n",
       " 'categoryNode': '4044_103150_4038',\n",
       " 'categoryPath': 'Home/Furniture/Living Room Furniture/Accent Chairs',\n",
       " 'clearance': False,\n",
       " 'color': 'Gray',\n",
       " 'customerRating': '4.043',\n",
       " 'customerRatingImage': 'http://i2.walmartimages.com/i/CustRating/4.gif',\n",
       " 'freeShipToStore': True,\n",
       " 'freeShippingOver50Dollars': True,\n",
       " 'giftOptions': {'allowGiftMessage': False,\n",
       "  'allowGiftReceipt': False,\n",
       "  'allowGiftWrap': False},\n",
       " 'imageEntities': [{'entityType': 'SECONDARY',\n",
       "   'largeImage': 'https://i5.walmartimages.com/asr/26e3633b-a241-4201-aa18-2b06d6ac7e98_1.ba864760c65f93cdc0f07664ce6226c0.jpeg?odnHeight=450&odnWidth=450&odnBg=FFFFFF',\n",
       "   'mediumImage': 'https://i5.walmartimages.com/asr/26e3633b-a241-4201-aa18-2b06d6ac7e98_1.ba864760c65f93cdc0f07664ce6226c0.jpeg?odnHeight=180&odnWidth=180&odnBg=FFFFFF',\n",
       "   'thumbnailImage': 'https://i5.walmartimages.com/asr/26e3633b-a241-4201-aa18-2b06d6ac7e98_1.ba864760c65f93cdc0f07664ce6226c0.jpeg?odnHeight=100&odnWidth=100&odnBg=FFFFFF'},\n",
       "  {'entityType': 'PRIMARY',\n",
       "   'largeImage': 'https://i5.walmartimages.com/asr/4ebab350-5690-4989-a9d4-b45375a3b497_1.29bf1ab091795644e567ca96485d3535.jpeg?odnHeight=450&odnWidth=450&odnBg=FFFFFF',\n",
       "   'mediumImage': 'https://i5.walmartimages.com/asr/4ebab350-5690-4989-a9d4-b45375a3b497_1.29bf1ab091795644e567ca96485d3535.jpeg?odnHeight=180&odnWidth=180&odnBg=FFFFFF',\n",
       "   'thumbnailImage': 'https://i5.walmartimages.com/asr/4ebab350-5690-4989-a9d4-b45375a3b497_1.29bf1ab091795644e567ca96485d3535.jpeg?odnHeight=100&odnWidth=100&odnBg=FFFFFF'}],\n",
       " 'isTwoDayShippingEligible': False,\n",
       " 'itemId': 34953581,\n",
       " 'largeImage': 'https://i5.walmartimages.com/asr/4ebab350-5690-4989-a9d4-b45375a3b497_1.29bf1ab091795644e567ca96485d3535.jpeg?odnHeight=450&odnWidth=450&odnBg=FFFFFF',\n",
       " 'longDescription': '&lt;br&gt;&lt;b&gt;10 Spring Street Verona Tufted Arm Chair:&lt;/b&gt;&lt;ul&gt;&lt;li&gt;Arm chair with a traditional styling&lt;/li&gt;&lt;li&gt;Durable microfiber fabric and contrasting piping add a sophisticated touch&lt;/li&gt;&lt;li&gt;Tapered solid wood legs provide sturdy and long-lasting support&lt;/li&gt;&lt;li&gt;Dimensions: 22.5&quot;W x 28.3&quot;D x 32.5&quot;H&lt;/li&gt;&lt;li&gt;Available in a variety of colors&lt;/li&gt;&lt;li&gt;Filled with high-density foam for sitting comfort&lt;/li&gt;&lt;li&gt;Office or living room arm chair features a classic look that will coordinate with a range of decorative styles&lt;/li&gt;&lt;/ul&gt;',\n",
       " 'marketplace': False,\n",
       " 'mediumImage': 'https://i5.walmartimages.com/asr/4ebab350-5690-4989-a9d4-b45375a3b497_1.29bf1ab091795644e567ca96485d3535.jpeg?odnHeight=180&odnWidth=180&odnBg=FFFFFF',\n",
       " 'modelNumber': 'WM1-VNUPCH-GY',\n",
       " 'msrp': 151.3,\n",
       " 'name': '10 Spring Street Verona Chair, Multiple Colors',\n",
       " 'ninetySevenCentShipping': False,\n",
       " 'numReviews': 47,\n",
       " 'offerType': 'ONLINE_ONLY',\n",
       " 'parentItemId': 34953581,\n",
       " 'preOrder': False,\n",
       " 'productTrackingUrl': 'http://linksynergy.walmart.com/fs-bin/click?id=|LSNID|&offerid=223073.7200&type=14&catid=8&subid=0&hid=7200&tmpid=1082&RD_PARM1=https%253A%252F%252Fwww.walmart.com%252Fip%252F10-Spring-Street-Verona-Chair-Multiple-Colors%252F34953581%253Faffp1%253DEyJ2pD5bvQhSw0Bdth4-NPmOX17ATelCjl1M0_dPIfo%2526affilsrc%253Dapi',\n",
       " 'productUrl': 'http://c.affil.walmart.com/t/api01?l=https%3A%2F%2Fwww.walmart.com%2Fip%2F10-Spring-Street-Verona-Chair-Multiple-Colors%2F34953581%3Faffp1%3DEyJ2pD5bvQhSw0Bdth4-NPmOX17ATelCjl1M0_dPIfo%26affilsrc%3Dapi%26veh%3Daff%26wmlspartner%3Dreadonlyapi',\n",
       " 'salePrice': 126.97,\n",
       " 'shipToStore': True,\n",
       " 'shortDescription': 'With its classic, traditional styling, the 10 Spring Street Verona Tufted Arm Chair will make a wonderful statement in virtually any living space or private office. Its durable microfiber fabric and contrasting piping help provide a touch of sophistication that allow this piece to coordinate with a range of decorative styles. This traditional arm chair is also equipped with tapered solid wood legs, as well as comfortable high-density foam that will provide long-lasting support for the wear and tear of everyday use. It measures 22.5&quot;W x 28.3&quot;D x 32.5&quot;H and is available in a variety of colors.',\n",
       " 'size': 'Armchairs',\n",
       " 'standardShipRate': 0.0,\n",
       " 'stock': 'Not available',\n",
       " 'thumbnailImage': 'https://i5.walmartimages.com/asr/4ebab350-5690-4989-a9d4-b45375a3b497_1.29bf1ab091795644e567ca96485d3535.jpeg?odnHeight=100&odnWidth=100&odnBg=FFFFFF',\n",
       " 'upc': '677446133960',\n",
       " 'variants': [34953581, 34953583, 43156947, 34953585, 43156950]}"
      ]
     },
     "execution_count": 75,
     "metadata": {},
     "output_type": "execute_result"
    }
   ],
   "source": [
    "a = db.product_id_returns.find_one({'itemId': 34953581})\n",
    "a"
   ]
  },
  {
   "cell_type": "code",
   "execution_count": 76,
   "metadata": {},
   "outputs": [
    {
     "data": {
      "text/plain": [
       "[{'entityType': 'SECONDARY',\n",
       "  'largeImage': 'https://i5.walmartimages.com/asr/26e3633b-a241-4201-aa18-2b06d6ac7e98_1.ba864760c65f93cdc0f07664ce6226c0.jpeg?odnHeight=450&odnWidth=450&odnBg=FFFFFF',\n",
       "  'mediumImage': 'https://i5.walmartimages.com/asr/26e3633b-a241-4201-aa18-2b06d6ac7e98_1.ba864760c65f93cdc0f07664ce6226c0.jpeg?odnHeight=180&odnWidth=180&odnBg=FFFFFF',\n",
       "  'thumbnailImage': 'https://i5.walmartimages.com/asr/26e3633b-a241-4201-aa18-2b06d6ac7e98_1.ba864760c65f93cdc0f07664ce6226c0.jpeg?odnHeight=100&odnWidth=100&odnBg=FFFFFF'},\n",
       " {'entityType': 'PRIMARY',\n",
       "  'largeImage': 'https://i5.walmartimages.com/asr/4ebab350-5690-4989-a9d4-b45375a3b497_1.29bf1ab091795644e567ca96485d3535.jpeg?odnHeight=450&odnWidth=450&odnBg=FFFFFF',\n",
       "  'mediumImage': 'https://i5.walmartimages.com/asr/4ebab350-5690-4989-a9d4-b45375a3b497_1.29bf1ab091795644e567ca96485d3535.jpeg?odnHeight=180&odnWidth=180&odnBg=FFFFFF',\n",
       "  'thumbnailImage': 'https://i5.walmartimages.com/asr/4ebab350-5690-4989-a9d4-b45375a3b497_1.29bf1ab091795644e567ca96485d3535.jpeg?odnHeight=100&odnWidth=100&odnBg=FFFFFF'}]"
      ]
     },
     "execution_count": 76,
     "metadata": {},
     "output_type": "execute_result"
    }
   ],
   "source": [
    "a['imageEntities']"
   ]
  },
  {
   "cell_type": "code",
   "execution_count": 13,
   "metadata": {},
   "outputs": [],
   "source": [
    "results = db.product_id_returns.find({'$or': [{'availableOnline' : False}, {'availableOnline' : True}]},\n",
    "                                    {\n",
    "                                     'imageEntities.thumbnailImage' : 1,\n",
    "                                     })"
   ]
  },
  {
   "cell_type": "code",
   "execution_count": 79,
   "metadata": {},
   "outputs": [
    {
     "data": {
      "text/plain": [
       "{'_id': ObjectId('5a514a0095cdbc13b4a60722'),\n",
       " 'imageEntities': [{'thumbnailImage': 'https://i5.walmartimages.com/asr/7331c267-a242-4d91-8546-5ec1cd942cd9_1.1c932fe52189f3308d93e70875e044ef.jpeg?odnHeight=100&odnWidth=100&odnBg=FFFFFF'},\n",
       "  {'thumbnailImage': 'https://i5.walmartimages.com/asr/effecc7c-6b9d-476a-8e7b-2a03e1c9c084_1.8bc8dabaa4d2f43ef0cd6fdeb79a6f0c.jpeg?odnHeight=100&odnWidth=100&odnBg=FFFFFF'},\n",
       "  {'thumbnailImage': 'https://i5.walmartimages.com/asr/a6203120-4926-4580-9735-0f5a26f145b1_1.ee28ecefc345742f6b05a6377db12ea3.jpeg?odnHeight=100&odnWidth=100&odnBg=FFFFFF'},\n",
       "  {'thumbnailImage': 'https://i5.walmartimages.com/asr/860bbd4b-bb4b-4e47-915c-edf9e6fe4bff_1.3a1adbe94ee15e3649bdc592f1892710.jpeg?odnHeight=100&odnWidth=100&odnBg=FFFFFF'},\n",
       "  {'thumbnailImage': 'https://i5.walmartimages.com/asr/713d68dc-b823-45bc-90fd-c579b490da75_1.7daa1825d6356ffce578e6c6289c5ba2.jpeg?odnHeight=100&odnWidth=100&odnBg=FFFFFF'},\n",
       "  {'thumbnailImage': 'https://i5.walmartimages.com/asr/75f91de2-31ef-4583-befd-07ffc2e0884b_1.25cfa02238fdc454b2aee22dd98ad561.jpeg?odnHeight=100&odnWidth=100&odnBg=FFFFFF'},\n",
       "  {'thumbnailImage': 'https://i5.walmartimages.com/asr/625244a8-e1bb-41a7-a1ee-8f7273d2621d_1.6134d937af2cb2f1580f744b73f288a7.jpeg?odnHeight=100&odnWidth=100&odnBg=FFFFFF'},\n",
       "  {'thumbnailImage': 'https://i5.walmartimages.com/asr/db863d41-1fe5-4f30-9672-d2fdc00a3c8e_1.4be7776901a1b9246f1eec613badb330.jpeg?odnHeight=100&odnWidth=100&odnBg=FFFFFF'},\n",
       "  {'thumbnailImage': 'https://i5.walmartimages.com/asr/4fecb0d2-c3a2-436f-8606-d20c16fffacb_1.35c1016d05d4fa4c3d05bc36afc5bdd7.jpeg?odnHeight=100&odnWidth=100&odnBg=FFFFFF'},\n",
       "  {'thumbnailImage': 'https://i5.walmartimages.com/asr/3172053c-7881-4b2c-9edd-f2b153f08147_1.97015bcd0875b98233022436464cd352.jpeg?odnHeight=100&odnWidth=100&odnBg=FFFFFF'},\n",
       "  {'thumbnailImage': 'https://i5.walmartimages.com/asr/09ae8855-540b-42c8-b3d9-9eff6f935fc9_1.da093d4ae3b550d6959d848a1e2aec46.jpeg?odnHeight=100&odnWidth=100&odnBg=FFFFFF'},\n",
       "  {'thumbnailImage': 'https://i5.walmartimages.com/asr/49bf5bec-b93f-4274-93af-1d4076461577_1.1c10ff52cf79d23cc58d2e0c6abbf525.jpeg?odnHeight=100&odnWidth=100&odnBg=FFFFFF'}]}"
      ]
     },
     "execution_count": 79,
     "metadata": {},
     "output_type": "execute_result"
    }
   ],
   "source": [
    "results[1]"
   ]
  },
  {
   "cell_type": "code",
   "execution_count": 80,
   "metadata": {},
   "outputs": [
    {
     "data": {
      "text/plain": [
       "[{'thumbnailImage': 'https://i5.walmartimages.com/asr/7331c267-a242-4d91-8546-5ec1cd942cd9_1.1c932fe52189f3308d93e70875e044ef.jpeg?odnHeight=100&odnWidth=100&odnBg=FFFFFF'},\n",
       " {'thumbnailImage': 'https://i5.walmartimages.com/asr/effecc7c-6b9d-476a-8e7b-2a03e1c9c084_1.8bc8dabaa4d2f43ef0cd6fdeb79a6f0c.jpeg?odnHeight=100&odnWidth=100&odnBg=FFFFFF'},\n",
       " {'thumbnailImage': 'https://i5.walmartimages.com/asr/a6203120-4926-4580-9735-0f5a26f145b1_1.ee28ecefc345742f6b05a6377db12ea3.jpeg?odnHeight=100&odnWidth=100&odnBg=FFFFFF'},\n",
       " {'thumbnailImage': 'https://i5.walmartimages.com/asr/860bbd4b-bb4b-4e47-915c-edf9e6fe4bff_1.3a1adbe94ee15e3649bdc592f1892710.jpeg?odnHeight=100&odnWidth=100&odnBg=FFFFFF'},\n",
       " {'thumbnailImage': 'https://i5.walmartimages.com/asr/713d68dc-b823-45bc-90fd-c579b490da75_1.7daa1825d6356ffce578e6c6289c5ba2.jpeg?odnHeight=100&odnWidth=100&odnBg=FFFFFF'},\n",
       " {'thumbnailImage': 'https://i5.walmartimages.com/asr/75f91de2-31ef-4583-befd-07ffc2e0884b_1.25cfa02238fdc454b2aee22dd98ad561.jpeg?odnHeight=100&odnWidth=100&odnBg=FFFFFF'},\n",
       " {'thumbnailImage': 'https://i5.walmartimages.com/asr/625244a8-e1bb-41a7-a1ee-8f7273d2621d_1.6134d937af2cb2f1580f744b73f288a7.jpeg?odnHeight=100&odnWidth=100&odnBg=FFFFFF'},\n",
       " {'thumbnailImage': 'https://i5.walmartimages.com/asr/db863d41-1fe5-4f30-9672-d2fdc00a3c8e_1.4be7776901a1b9246f1eec613badb330.jpeg?odnHeight=100&odnWidth=100&odnBg=FFFFFF'},\n",
       " {'thumbnailImage': 'https://i5.walmartimages.com/asr/4fecb0d2-c3a2-436f-8606-d20c16fffacb_1.35c1016d05d4fa4c3d05bc36afc5bdd7.jpeg?odnHeight=100&odnWidth=100&odnBg=FFFFFF'},\n",
       " {'thumbnailImage': 'https://i5.walmartimages.com/asr/3172053c-7881-4b2c-9edd-f2b153f08147_1.97015bcd0875b98233022436464cd352.jpeg?odnHeight=100&odnWidth=100&odnBg=FFFFFF'},\n",
       " {'thumbnailImage': 'https://i5.walmartimages.com/asr/09ae8855-540b-42c8-b3d9-9eff6f935fc9_1.da093d4ae3b550d6959d848a1e2aec46.jpeg?odnHeight=100&odnWidth=100&odnBg=FFFFFF'},\n",
       " {'thumbnailImage': 'https://i5.walmartimages.com/asr/49bf5bec-b93f-4274-93af-1d4076461577_1.1c10ff52cf79d23cc58d2e0c6abbf525.jpeg?odnHeight=100&odnWidth=100&odnBg=FFFFFF'}]"
      ]
     },
     "execution_count": 80,
     "metadata": {},
     "output_type": "execute_result"
    }
   ],
   "source": [
    "results[1].get('imageEntities', 0)"
   ]
  },
  {
   "cell_type": "code",
   "execution_count": 14,
   "metadata": {},
   "outputs": [],
   "source": [
    "a = 0\n",
    "b = results.count()\n",
    "for i in range(0,b):\n",
    "    a += len(results[0].get('imageEntities', 0))"
   ]
  },
  {
   "cell_type": "code",
   "execution_count": 15,
   "metadata": {},
   "outputs": [
    {
     "data": {
      "text/plain": [
       "240888"
      ]
     },
     "execution_count": 15,
     "metadata": {},
     "output_type": "execute_result"
    }
   ],
   "source": [
    "a"
   ]
  },
  {
   "cell_type": "code",
   "execution_count": 10,
   "metadata": {},
   "outputs": [
    {
     "data": {
      "text/plain": [
       "4.0"
      ]
     },
     "execution_count": 10,
     "metadata": {},
     "output_type": "execute_result"
    }
   ],
   "source": [
    "a/39937\n"
   ]
  },
  {
   "cell_type": "code",
   "execution_count": 16,
   "metadata": {},
   "outputs": [
    {
     "data": {
      "text/plain": [
       "{'_id': ObjectId('5a514a0095cdbc13b4a60722'),\n",
       " 'imageEntities': [{'thumbnailImage': 'https://i5.walmartimages.com/asr/7331c267-a242-4d91-8546-5ec1cd942cd9_1.1c932fe52189f3308d93e70875e044ef.jpeg?odnHeight=100&odnWidth=100&odnBg=FFFFFF'},\n",
       "  {'thumbnailImage': 'https://i5.walmartimages.com/asr/effecc7c-6b9d-476a-8e7b-2a03e1c9c084_1.8bc8dabaa4d2f43ef0cd6fdeb79a6f0c.jpeg?odnHeight=100&odnWidth=100&odnBg=FFFFFF'},\n",
       "  {'thumbnailImage': 'https://i5.walmartimages.com/asr/a6203120-4926-4580-9735-0f5a26f145b1_1.ee28ecefc345742f6b05a6377db12ea3.jpeg?odnHeight=100&odnWidth=100&odnBg=FFFFFF'},\n",
       "  {'thumbnailImage': 'https://i5.walmartimages.com/asr/860bbd4b-bb4b-4e47-915c-edf9e6fe4bff_1.3a1adbe94ee15e3649bdc592f1892710.jpeg?odnHeight=100&odnWidth=100&odnBg=FFFFFF'},\n",
       "  {'thumbnailImage': 'https://i5.walmartimages.com/asr/713d68dc-b823-45bc-90fd-c579b490da75_1.7daa1825d6356ffce578e6c6289c5ba2.jpeg?odnHeight=100&odnWidth=100&odnBg=FFFFFF'},\n",
       "  {'thumbnailImage': 'https://i5.walmartimages.com/asr/75f91de2-31ef-4583-befd-07ffc2e0884b_1.25cfa02238fdc454b2aee22dd98ad561.jpeg?odnHeight=100&odnWidth=100&odnBg=FFFFFF'},\n",
       "  {'thumbnailImage': 'https://i5.walmartimages.com/asr/625244a8-e1bb-41a7-a1ee-8f7273d2621d_1.6134d937af2cb2f1580f744b73f288a7.jpeg?odnHeight=100&odnWidth=100&odnBg=FFFFFF'},\n",
       "  {'thumbnailImage': 'https://i5.walmartimages.com/asr/db863d41-1fe5-4f30-9672-d2fdc00a3c8e_1.4be7776901a1b9246f1eec613badb330.jpeg?odnHeight=100&odnWidth=100&odnBg=FFFFFF'},\n",
       "  {'thumbnailImage': 'https://i5.walmartimages.com/asr/4fecb0d2-c3a2-436f-8606-d20c16fffacb_1.35c1016d05d4fa4c3d05bc36afc5bdd7.jpeg?odnHeight=100&odnWidth=100&odnBg=FFFFFF'},\n",
       "  {'thumbnailImage': 'https://i5.walmartimages.com/asr/3172053c-7881-4b2c-9edd-f2b153f08147_1.97015bcd0875b98233022436464cd352.jpeg?odnHeight=100&odnWidth=100&odnBg=FFFFFF'},\n",
       "  {'thumbnailImage': 'https://i5.walmartimages.com/asr/09ae8855-540b-42c8-b3d9-9eff6f935fc9_1.da093d4ae3b550d6959d848a1e2aec46.jpeg?odnHeight=100&odnWidth=100&odnBg=FFFFFF'},\n",
       "  {'thumbnailImage': 'https://i5.walmartimages.com/asr/49bf5bec-b93f-4274-93af-1d4076461577_1.1c10ff52cf79d23cc58d2e0c6abbf525.jpeg?odnHeight=100&odnWidth=100&odnBg=FFFFFF'}]}"
      ]
     },
     "execution_count": 16,
     "metadata": {},
     "output_type": "execute_result"
    }
   ],
   "source": [
    "results[1]"
   ]
  },
  {
   "cell_type": "code",
   "execution_count": 17,
   "metadata": {},
   "outputs": [],
   "source": [
    "results = db.product_id_returns.find({'$or': [{'availableOnline' : False}, {'availableOnline' : True}]},\n",
    "                                    {'itemId': 1,\n",
    "                                     'shortDescription' : 1,\n",
    "                                     'imageEntities.thumbnailImage' : 1,\n",
    "                                     'categoryPath' : 1,\n",
    "                                     'name' : 1})"
   ]
  },
  {
   "cell_type": "code",
   "execution_count": 23,
   "metadata": {},
   "outputs": [
    {
     "data": {
      "text/plain": [
       "'Home/Furniture/Kitchen & Dining Furniture/Bar Stools'"
      ]
     },
     "execution_count": 23,
     "metadata": {},
     "output_type": "execute_result"
    }
   ],
   "source": [
    "results[2]['categoryPath']"
   ]
  },
  {
   "cell_type": "code",
   "execution_count": 27,
   "metadata": {},
   "outputs": [],
   "source": [
    "cats = []\n",
    "for result in results:\n",
    "    cats.append(result.get('categoryPath'),)"
   ]
  },
  {
   "cell_type": "code",
   "execution_count": null,
   "metadata": {},
   "outputs": [],
   "source": []
  },
  {
   "cell_type": "code",
   "execution_count": null,
   "metadata": {},
   "outputs": [],
   "source": []
  }
 ],
 "metadata": {
  "kernelspec": {
   "display_name": "Python 3",
   "language": "python",
   "name": "python3"
  },
  "language_info": {
   "codemirror_mode": {
    "name": "ipython",
    "version": 3
   },
   "file_extension": ".py",
   "mimetype": "text/x-python",
   "name": "python",
   "nbconvert_exporter": "python",
   "pygments_lexer": "ipython3",
   "version": "3.6.4"
  }
 },
 "nbformat": 4,
 "nbformat_minor": 2
}
