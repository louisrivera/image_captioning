{
 "cells": [
  {
   "cell_type": "markdown",
   "metadata": {},
   "source": [
    "Import a bunch of stuff"
   ]
  },
  {
   "cell_type": "code",
   "execution_count": 112,
   "metadata": {},
   "outputs": [],
   "source": [
    "import requests\n",
    "from bs4 import BeautifulSoup\n",
    "from urllib.request import urlopen\n",
    "import numpy as np\n",
    "import pandas as pd\n",
    "import re\n",
    "import time\n",
    "import csv\n",
    "import os\n",
    "import json\n",
    "import urllib\n",
    "import pickle\n",
    "import pymongo\n",
    "from pymongo import MongoClient\n",
    "import pprint\n",
    "from bson import json_util\n",
    "import json\n",
    "import pickle\n",
    "import pprint"
   ]
  },
  {
   "cell_type": "markdown",
   "metadata": {},
   "source": [
    "Open mongod db: Capstone, collection = project_id_returns"
   ]
  },
  {
   "cell_type": "code",
   "execution_count": 3,
   "metadata": {},
   "outputs": [
    {
     "name": "stdout",
     "output_type": "stream",
     "text": [
      "{'db': 'capstone_project', 'collections': 2, 'views': 0, 'objects': 90905, 'avgObjSize': 5084.188900500522, 'dataSize': 462178192.0, 'storageSize': 164089856.0, 'numExtents': 0, 'indexes': 2, 'indexSize': 946176.0, 'fsUsedSize': 83982340096.0, 'fsTotalSize': 499963170816.0, 'ok': 1.0}\n"
     ]
    }
   ],
   "source": [
    "client = MongoClient()\n",
    "db = client.capstone_project\n",
    "collection = db.product_id_returns\n",
    "# print collection statistics\n",
    "# print (db.command(\"collstats\"))\n",
    "\n",
    "# print database statistics\n",
    "print (db.command(\"dbstats\"))"
   ]
  },
  {
   "cell_type": "markdown",
   "metadata": {},
   "source": [
    "Example data for one item"
   ]
  },
  {
   "cell_type": "code",
   "execution_count": 5,
   "metadata": {},
   "outputs": [
    {
     "data": {
      "text/plain": [
       "{'_id': ObjectId('5a514a0095cdbc13b4a60726'),\n",
       " 'addToCartUrl': 'http://c.affil.walmart.com/t/api01?l=http%3A%2F%2Faffil.walmart.com%2Fcart%2FaddToCart%3Fitems%3D34953581%7C1%26affp1%3DEyJ2pD5bvQhSw0Bdth4-NPmOX17ATelCjl1M0_dPIfo%26affilsrc%3Dapi%26veh%3Daff%26wmlspartner%3Dreadonlyapi',\n",
       " 'affiliateAddToCartUrl': 'http://linksynergy.walmart.com/fs-bin/click?id=|LSNID|&offerid=223073.7200&type=14&catid=8&subid=0&hid=7200&tmpid=1082&RD_PARM1=http%253A%252F%252Faffil.walmart.com%252Fcart%252FaddToCart%253Fitems%253D34953581%257C1%2526affp1%253DEyJ2pD5bvQhSw0Bdth4-NPmOX17ATelCjl1M0_dPIfo%2526affilsrc%253Dapi',\n",
       " 'attributes': {'actualColor': 'Charcoal',\n",
       "  'color': 'Gray',\n",
       "  'finerCateg': 'Armchairs'},\n",
       " 'availableOnline': False,\n",
       " 'brandName': '10 Spring Street',\n",
       " 'bundle': False,\n",
       " 'categoryNode': '4044_103150_4038',\n",
       " 'categoryPath': 'Home/Furniture/Living Room Furniture/Accent Chairs',\n",
       " 'clearance': False,\n",
       " 'color': 'Gray',\n",
       " 'customerRating': '4.043',\n",
       " 'customerRatingImage': 'http://i2.walmartimages.com/i/CustRating/4.gif',\n",
       " 'freeShipToStore': True,\n",
       " 'freeShippingOver50Dollars': True,\n",
       " 'giftOptions': {'allowGiftMessage': False,\n",
       "  'allowGiftReceipt': False,\n",
       "  'allowGiftWrap': False},\n",
       " 'imageEntities': [{'entityType': 'SECONDARY',\n",
       "   'largeImage': 'https://i5.walmartimages.com/asr/26e3633b-a241-4201-aa18-2b06d6ac7e98_1.ba864760c65f93cdc0f07664ce6226c0.jpeg?odnHeight=450&odnWidth=450&odnBg=FFFFFF',\n",
       "   'mediumImage': 'https://i5.walmartimages.com/asr/26e3633b-a241-4201-aa18-2b06d6ac7e98_1.ba864760c65f93cdc0f07664ce6226c0.jpeg?odnHeight=180&odnWidth=180&odnBg=FFFFFF',\n",
       "   'thumbnailImage': 'https://i5.walmartimages.com/asr/26e3633b-a241-4201-aa18-2b06d6ac7e98_1.ba864760c65f93cdc0f07664ce6226c0.jpeg?odnHeight=100&odnWidth=100&odnBg=FFFFFF'},\n",
       "  {'entityType': 'PRIMARY',\n",
       "   'largeImage': 'https://i5.walmartimages.com/asr/4ebab350-5690-4989-a9d4-b45375a3b497_1.29bf1ab091795644e567ca96485d3535.jpeg?odnHeight=450&odnWidth=450&odnBg=FFFFFF',\n",
       "   'mediumImage': 'https://i5.walmartimages.com/asr/4ebab350-5690-4989-a9d4-b45375a3b497_1.29bf1ab091795644e567ca96485d3535.jpeg?odnHeight=180&odnWidth=180&odnBg=FFFFFF',\n",
       "   'thumbnailImage': 'https://i5.walmartimages.com/asr/4ebab350-5690-4989-a9d4-b45375a3b497_1.29bf1ab091795644e567ca96485d3535.jpeg?odnHeight=100&odnWidth=100&odnBg=FFFFFF'}],\n",
       " 'isTwoDayShippingEligible': False,\n",
       " 'itemId': 34953581,\n",
       " 'largeImage': 'https://i5.walmartimages.com/asr/4ebab350-5690-4989-a9d4-b45375a3b497_1.29bf1ab091795644e567ca96485d3535.jpeg?odnHeight=450&odnWidth=450&odnBg=FFFFFF',\n",
       " 'longDescription': '&lt;br&gt;&lt;b&gt;10 Spring Street Verona Tufted Arm Chair:&lt;/b&gt;&lt;ul&gt;&lt;li&gt;Arm chair with a traditional styling&lt;/li&gt;&lt;li&gt;Durable microfiber fabric and contrasting piping add a sophisticated touch&lt;/li&gt;&lt;li&gt;Tapered solid wood legs provide sturdy and long-lasting support&lt;/li&gt;&lt;li&gt;Dimensions: 22.5&quot;W x 28.3&quot;D x 32.5&quot;H&lt;/li&gt;&lt;li&gt;Available in a variety of colors&lt;/li&gt;&lt;li&gt;Filled with high-density foam for sitting comfort&lt;/li&gt;&lt;li&gt;Office or living room arm chair features a classic look that will coordinate with a range of decorative styles&lt;/li&gt;&lt;/ul&gt;',\n",
       " 'marketplace': False,\n",
       " 'mediumImage': 'https://i5.walmartimages.com/asr/4ebab350-5690-4989-a9d4-b45375a3b497_1.29bf1ab091795644e567ca96485d3535.jpeg?odnHeight=180&odnWidth=180&odnBg=FFFFFF',\n",
       " 'modelNumber': 'WM1-VNUPCH-GY',\n",
       " 'msrp': 151.3,\n",
       " 'name': '10 Spring Street Verona Chair, Multiple Colors',\n",
       " 'ninetySevenCentShipping': False,\n",
       " 'numReviews': 47,\n",
       " 'offerType': 'ONLINE_ONLY',\n",
       " 'parentItemId': 34953581,\n",
       " 'preOrder': False,\n",
       " 'productTrackingUrl': 'http://linksynergy.walmart.com/fs-bin/click?id=|LSNID|&offerid=223073.7200&type=14&catid=8&subid=0&hid=7200&tmpid=1082&RD_PARM1=https%253A%252F%252Fwww.walmart.com%252Fip%252F10-Spring-Street-Verona-Chair-Multiple-Colors%252F34953581%253Faffp1%253DEyJ2pD5bvQhSw0Bdth4-NPmOX17ATelCjl1M0_dPIfo%2526affilsrc%253Dapi',\n",
       " 'productUrl': 'http://c.affil.walmart.com/t/api01?l=https%3A%2F%2Fwww.walmart.com%2Fip%2F10-Spring-Street-Verona-Chair-Multiple-Colors%2F34953581%3Faffp1%3DEyJ2pD5bvQhSw0Bdth4-NPmOX17ATelCjl1M0_dPIfo%26affilsrc%3Dapi%26veh%3Daff%26wmlspartner%3Dreadonlyapi',\n",
       " 'salePrice': 126.97,\n",
       " 'shipToStore': True,\n",
       " 'shortDescription': 'With its classic, traditional styling, the 10 Spring Street Verona Tufted Arm Chair will make a wonderful statement in virtually any living space or private office. Its durable microfiber fabric and contrasting piping help provide a touch of sophistication that allow this piece to coordinate with a range of decorative styles. This traditional arm chair is also equipped with tapered solid wood legs, as well as comfortable high-density foam that will provide long-lasting support for the wear and tear of everyday use. It measures 22.5&quot;W x 28.3&quot;D x 32.5&quot;H and is available in a variety of colors.',\n",
       " 'size': 'Armchairs',\n",
       " 'standardShipRate': 0.0,\n",
       " 'stock': 'Not available',\n",
       " 'thumbnailImage': 'https://i5.walmartimages.com/asr/4ebab350-5690-4989-a9d4-b45375a3b497_1.29bf1ab091795644e567ca96485d3535.jpeg?odnHeight=100&odnWidth=100&odnBg=FFFFFF',\n",
       " 'upc': '677446133960',\n",
       " 'variants': [34953581, 34953583, 43156947, 34953585, 43156950]}"
      ]
     },
     "execution_count": 5,
     "metadata": {},
     "output_type": "execute_result"
    }
   ],
   "source": [
    "a = collection.find_one({'itemId': 34953581})\n",
    "a"
   ]
  },
  {
   "cell_type": "markdown",
   "metadata": {},
   "source": [
    "Sample Query:"
   ]
  },
  {
   "cell_type": "code",
   "execution_count": 18,
   "metadata": {},
   "outputs": [
    {
     "data": {
      "text/plain": [
       "{'_id': ObjectId('5a514a0095cdbc13b4a60728'),\n",
       " 'categoryNode': '4044_103150_4037',\n",
       " 'categoryPath': 'Home/Furniture/Kitchen & Dining Furniture/Pantries',\n",
       " 'imageEntities': [{'thumbnailImage': 'https://i5.walmartimages.com/asr/662d67cb-d3ad-4df6-9f62-3f8516b177b8_1.1eb4ece9dee5ed505973a090d5a312c4.jpeg?odnHeight=100&odnWidth=100&odnBg=FFFFFF'},\n",
       "  {'thumbnailImage': 'https://i5.walmartimages.com/asr/393a74b0-6215-4816-939f-671bb4bd84f7_1.bfcb5aa546597a89950d01114fed9371.jpeg?odnHeight=100&odnWidth=100&odnBg=FFFFFF'}],\n",
       " 'itemId': 35333696,\n",
       " 'name': 'Crosley Furniture Parsons Pantry',\n",
       " 'shortDescription': 'Add function and style to your kitchen with the Parsons Pantry. Abundant storage resides within the two large cabinets, each featuring adjustable full width shelves. Made of hardwoods and built to last, this pantry is a fine addition to any household.'}"
      ]
     },
     "execution_count": 18,
     "metadata": {},
     "output_type": "execute_result"
    }
   ],
   "source": [
    "results = db.product_id_returns.find({'$or': [{'availableOnline' : False}, {'availableOnline' : True}]},\n",
    "                                    {'itemId': 1,\n",
    "                                     'shortDescription' : 1,\n",
    "                                     'imageEntities.thumbnailImage' : 1,\n",
    "                                     'categoryNode' : 1,\n",
    "                                     'categoryPath' : 1,\n",
    "                                     'name' : 1})\n",
    "results[4]"
   ]
  },
  {
   "cell_type": "raw",
   "metadata": {},
   "source": [
    "Scraping sometimes results in getting obscure categories like tires, this is because I scraped for product IDs and if a number matched a 6,7,8 digit number it got scraped, as a result items such as tires which are not furniture may have been added. I will use a regex search to look for anything with a path of home/furniture"
   ]
  },
  {
   "cell_type": "code",
   "execution_count": 99,
   "metadata": {},
   "outputs": [],
   "source": [
    "rgx = re.compile('HOME/Furniture/Kitchen & Dining Furniture.*', re.IGNORECASE)\n",
    "new_results = collection.find({'categoryPath': rgx},\n",
    "                                    {'itemId': 1,\n",
    "                                     'shortDescription' : 1,\n",
    "                                     'imageEntities.thumbnailImage' : 1,\n",
    "                                     'categoryNode' : 1,\n",
    "                                     'categoryPath' : 1,\n",
    "                                     'name' : 1})"
   ]
  },
  {
   "cell_type": "code",
   "execution_count": 100,
   "metadata": {},
   "outputs": [
    {
     "data": {
      "text/plain": [
       "18891"
      ]
     },
     "execution_count": 100,
     "metadata": {},
     "output_type": "execute_result"
    }
   ],
   "source": [
    "new_results.count()"
   ]
  },
  {
   "cell_type": "code",
   "execution_count": 102,
   "metadata": {},
   "outputs": [
    {
     "ename": "NameError",
     "evalue": "name 'urlopen' is not defined",
     "output_type": "error",
     "traceback": [
      "\u001b[0;31m---------------------------------------------------------------------------\u001b[0m",
      "\u001b[0;31mNameError\u001b[0m                                 Traceback (most recent call last)",
      "\u001b[0;32m<ipython-input-102-ef589fad585a>\u001b[0m in \u001b[0;36m<module>\u001b[0;34m()\u001b[0m\n\u001b[1;32m      1\u001b[0m \u001b[0mwebpage\u001b[0m \u001b[0;34m=\u001b[0m \u001b[0;34m\"https://i5.walmartimages.com/asr/393a74b0-6215-4816-939f-671bb4bd84f7_1.bfcb5aa546597a89950d01114fed9371.jpeg?odnHeight=100&odnWidth=100&odnBg=FFFFFF\"\u001b[0m\u001b[0;34m\u001b[0m\u001b[0m\n\u001b[0;32m----> 2\u001b[0;31m \u001b[0msoup\u001b[0m \u001b[0;34m=\u001b[0m \u001b[0mBeautifulSoup\u001b[0m\u001b[0;34m(\u001b[0m\u001b[0murlopen\u001b[0m\u001b[0;34m(\u001b[0m\u001b[0mwebpage\u001b[0m\u001b[0;34m)\u001b[0m\u001b[0;34m,\u001b[0m \u001b[0;34m\"html.parser\"\u001b[0m\u001b[0;34m)\u001b[0m\u001b[0;34m\u001b[0m\u001b[0m\n\u001b[0m\u001b[1;32m      3\u001b[0m \u001b[0;34m\u001b[0m\u001b[0m\n\u001b[1;32m      4\u001b[0m \u001b[0;32mfor\u001b[0m \u001b[0mimg\u001b[0m \u001b[0;32min\u001b[0m \u001b[0msoup\u001b[0m\u001b[0;34m.\u001b[0m\u001b[0mfind_all\u001b[0m\u001b[0;34m(\u001b[0m\u001b[0;34m'img'\u001b[0m\u001b[0;34m)\u001b[0m\u001b[0;34m:\u001b[0m\u001b[0;34m\u001b[0m\u001b[0m\n\u001b[1;32m      5\u001b[0m     \u001b[0mimg_url\u001b[0m \u001b[0;34m=\u001b[0m \u001b[0murljoin\u001b[0m\u001b[0;34m(\u001b[0m\u001b[0mwebpage\u001b[0m\u001b[0;34m,\u001b[0m \u001b[0mimg\u001b[0m\u001b[0;34m[\u001b[0m\u001b[0;34m'src'\u001b[0m\u001b[0;34m]\u001b[0m\u001b[0;34m)\u001b[0m\u001b[0;34m\u001b[0m\u001b[0m\n",
      "\u001b[0;31mNameError\u001b[0m: name 'urlopen' is not defined"
     ]
    }
   ],
   "source": [
    "cats = []\n",
    "for result in new_results:\n",
    "    cats.append(result.get('categoryPath',))"
   ]
  },
  {
   "cell_type": "code",
   "execution_count": 49,
   "metadata": {},
   "outputs": [
    {
     "data": {
      "text/plain": [
       "95"
      ]
     },
     "execution_count": 49,
     "metadata": {},
     "output_type": "execute_result"
    }
   ],
   "source": [
    "len(set(cats))"
   ]
  },
  {
   "cell_type": "markdown",
   "metadata": {},
   "source": [
    "That looks more reasonable. Lets try and count images"
   ]
  },
  {
   "cell_type": "code",
   "execution_count": 160,
   "metadata": {},
   "outputs": [],
   "source": [
    "\n",
    "new_results = collection.find({'$and': [{'categoryPath': rgx}, {'imageEntities.thumbnailImage' : {'$exists': True}}]},\n",
    "                                    {'itemId': 1,\n",
    "                                     'categoryPath' : 1,\n",
    "                                     'imageEntities.thumbnailImage' : 1\n",
    "                                    })"
   ]
  },
  {
   "cell_type": "code",
   "execution_count": 161,
   "metadata": {},
   "outputs": [
    {
     "data": {
      "text/plain": [
       "{'_id': ObjectId('5a514a0095cdbc13b4a6073e'),\n",
       " 'categoryPath': 'Home/Furniture/Kitchen & Dining Furniture/Dining Chairs',\n",
       " 'imageEntities': [{'thumbnailImage': 'https://i5.walmartimages.com/asr/eca96694-0796-4b72-8601-0eae4d378706_1.0c7bb1e7a070b537c3f1753af1671f6e.jpeg?odnHeight=100&odnWidth=100&odnBg=FFFFFF'},\n",
       "  {'thumbnailImage': 'https://i5.walmartimages.com/asr/ea35dc0c-a985-469d-9af2-afacc48867b5_1.949c6f60e2fc225b1129277394e78a42.jpeg?odnHeight=100&odnWidth=100&odnBg=FFFFFF'},\n",
       "  {'thumbnailImage': 'https://i5.walmartimages.com/asr/daef96e5-7db4-4fb8-a226-1dd24b73d270_1.4bc4ed8384196054524cc41ff59bc587.jpeg?odnHeight=100&odnWidth=100&odnBg=FFFFFF'},\n",
       "  {'thumbnailImage': 'https://i5.walmartimages.com/asr/e43fc356-6c4d-43e4-b91d-db2844d95b64_1.d2e64d20c2f97bfb4e3b50453df403bb.jpeg?odnHeight=100&odnWidth=100&odnBg=FFFFFF'},\n",
       "  {'thumbnailImage': 'https://i5.walmartimages.com/asr/649e65c8-aa4c-4a05-a3b0-520b1b0a45f6_1.894816805874f183bb0edeb3fb96ee59.jpeg?odnHeight=100&odnWidth=100&odnBg=FFFFFF'},\n",
       "  {'thumbnailImage': 'https://i5.walmartimages.com/asr/e7bcdabd-9afb-4294-a707-1efcaf89355e_1.d91e19e79cace498b927317ee148bb30.jpeg?odnHeight=100&odnWidth=100&odnBg=FFFFFF'},\n",
       "  {'thumbnailImage': 'https://i5.walmartimages.com/asr/7032d139-581e-425d-9bb5-ea1ad60ef75e_1.54e3720d65fc0d9ca331cc8e26999a73.jpeg?odnHeight=100&odnWidth=100&odnBg=FFFFFF'},\n",
       "  {'thumbnailImage': 'https://i5.walmartimages.com/asr/6695d107-f56a-42c4-be9d-8aeaaef828e3_1.58924bc7cbd98c0567d4a83aa4092ab0.jpeg?odnHeight=100&odnWidth=100&odnBg=FFFFFF'},\n",
       "  {'thumbnailImage': 'https://i5.walmartimages.com/asr/0d690fa9-7b1d-42ef-aa91-4986336fec85_1.c3def10bb6983964f439d29a969e97e7.jpeg?odnHeight=100&odnWidth=100&odnBg=FFFFFF'}],\n",
       " 'itemId': 45019803}"
      ]
     },
     "execution_count": 161,
     "metadata": {},
     "output_type": "execute_result"
    }
   ],
   "source": [
    "new_results[4]"
   ]
  },
  {
   "cell_type": "code",
   "execution_count": 162,
   "metadata": {},
   "outputs": [
    {
     "name": "stdout",
     "output_type": "stream",
     "text": [
      "0\n",
      "500\n"
     ]
    },
    {
     "ename": "KeyboardInterrupt",
     "evalue": "",
     "output_type": "error",
     "traceback": [
      "\u001b[0;31m---------------------------------------------------------------------------\u001b[0m",
      "\u001b[0;31mKeyboardInterrupt\u001b[0m                         Traceback (most recent call last)",
      "\u001b[0;32m<ipython-input-162-ecfe4f4e5e13>\u001b[0m in \u001b[0;36m<module>\u001b[0;34m()\u001b[0m\n\u001b[1;32m      3\u001b[0m \u001b[0;32mfor\u001b[0m \u001b[0mi\u001b[0m \u001b[0;32min\u001b[0m \u001b[0mrange\u001b[0m\u001b[0;34m(\u001b[0m\u001b[0;36m0\u001b[0m\u001b[0;34m,\u001b[0m \u001b[0;36m3001\u001b[0m\u001b[0;34m)\u001b[0m\u001b[0;34m:\u001b[0m\u001b[0;34m\u001b[0m\u001b[0m\n\u001b[1;32m      4\u001b[0m     \u001b[0;32mif\u001b[0m \u001b[0mi\u001b[0m \u001b[0;34m%\u001b[0m \u001b[0;36m500\u001b[0m \u001b[0;34m==\u001b[0m \u001b[0;36m0\u001b[0m\u001b[0;34m:\u001b[0m \u001b[0mprint\u001b[0m \u001b[0;34m(\u001b[0m\u001b[0mi\u001b[0m\u001b[0;34m)\u001b[0m\u001b[0;34m\u001b[0m\u001b[0m\n\u001b[0;32m----> 5\u001b[0;31m     \u001b[0mcount_num\u001b[0m \u001b[0;34m+=\u001b[0m \u001b[0mlen\u001b[0m\u001b[0;34m(\u001b[0m\u001b[0mnew_results\u001b[0m\u001b[0;34m[\u001b[0m\u001b[0mi\u001b[0m\u001b[0;34m]\u001b[0m\u001b[0;34m.\u001b[0m\u001b[0mget\u001b[0m\u001b[0;34m(\u001b[0m\u001b[0;34m'imageEntities'\u001b[0m\u001b[0;34m,\u001b[0m\u001b[0;34m[\u001b[0m\u001b[0;34m]\u001b[0m\u001b[0;34m)\u001b[0m\u001b[0;34m)\u001b[0m\u001b[0;34m\u001b[0m\u001b[0m\n\u001b[0m",
      "\u001b[0;32m~/anaconda2/envs/py3/lib/python3.6/site-packages/pymongo/cursor.py\u001b[0m in \u001b[0;36m__getitem__\u001b[0;34m(self, index)\u001b[0m\n\u001b[1;32m    566\u001b[0m             \u001b[0mclone\u001b[0m\u001b[0;34m.\u001b[0m\u001b[0mskip\u001b[0m\u001b[0;34m(\u001b[0m\u001b[0mindex\u001b[0m \u001b[0;34m+\u001b[0m \u001b[0mself\u001b[0m\u001b[0;34m.\u001b[0m\u001b[0m__skip\u001b[0m\u001b[0;34m)\u001b[0m\u001b[0;34m\u001b[0m\u001b[0m\n\u001b[1;32m    567\u001b[0m             \u001b[0mclone\u001b[0m\u001b[0;34m.\u001b[0m\u001b[0mlimit\u001b[0m\u001b[0;34m(\u001b[0m\u001b[0;34m-\u001b[0m\u001b[0;36m1\u001b[0m\u001b[0;34m)\u001b[0m  \u001b[0;31m# use a hard limit\u001b[0m\u001b[0;34m\u001b[0m\u001b[0m\n\u001b[0;32m--> 568\u001b[0;31m             \u001b[0;32mfor\u001b[0m \u001b[0mdoc\u001b[0m \u001b[0;32min\u001b[0m \u001b[0mclone\u001b[0m\u001b[0;34m:\u001b[0m\u001b[0;34m\u001b[0m\u001b[0m\n\u001b[0m\u001b[1;32m    569\u001b[0m                 \u001b[0;32mreturn\u001b[0m \u001b[0mdoc\u001b[0m\u001b[0;34m\u001b[0m\u001b[0m\n\u001b[1;32m    570\u001b[0m             \u001b[0;32mraise\u001b[0m \u001b[0mIndexError\u001b[0m\u001b[0;34m(\u001b[0m\u001b[0;34m\"no such item for Cursor instance\"\u001b[0m\u001b[0;34m)\u001b[0m\u001b[0;34m\u001b[0m\u001b[0m\n",
      "\u001b[0;32m~/anaconda2/envs/py3/lib/python3.6/site-packages/pymongo/cursor.py\u001b[0m in \u001b[0;36mnext\u001b[0;34m(self)\u001b[0m\n\u001b[1;32m   1112\u001b[0m             \u001b[0;32mraise\u001b[0m \u001b[0mStopIteration\u001b[0m\u001b[0;34m\u001b[0m\u001b[0m\n\u001b[1;32m   1113\u001b[0m         \u001b[0m_db\u001b[0m \u001b[0;34m=\u001b[0m \u001b[0mself\u001b[0m\u001b[0;34m.\u001b[0m\u001b[0m__collection\u001b[0m\u001b[0;34m.\u001b[0m\u001b[0mdatabase\u001b[0m\u001b[0;34m\u001b[0m\u001b[0m\n\u001b[0;32m-> 1114\u001b[0;31m         \u001b[0;32mif\u001b[0m \u001b[0mlen\u001b[0m\u001b[0;34m(\u001b[0m\u001b[0mself\u001b[0m\u001b[0;34m.\u001b[0m\u001b[0m__data\u001b[0m\u001b[0;34m)\u001b[0m \u001b[0;32mor\u001b[0m \u001b[0mself\u001b[0m\u001b[0;34m.\u001b[0m\u001b[0m_refresh\u001b[0m\u001b[0;34m(\u001b[0m\u001b[0;34m)\u001b[0m\u001b[0;34m:\u001b[0m\u001b[0;34m\u001b[0m\u001b[0m\n\u001b[0m\u001b[1;32m   1115\u001b[0m             \u001b[0;32mif\u001b[0m \u001b[0mself\u001b[0m\u001b[0;34m.\u001b[0m\u001b[0m__manipulate\u001b[0m\u001b[0;34m:\u001b[0m\u001b[0;34m\u001b[0m\u001b[0m\n\u001b[1;32m   1116\u001b[0m                 return _db._fix_outgoing(self.__data.popleft(),\n",
      "\u001b[0;32m~/anaconda2/envs/py3/lib/python3.6/site-packages/pymongo/cursor.py\u001b[0m in \u001b[0;36m_refresh\u001b[0;34m(self)\u001b[0m\n\u001b[1;32m   1034\u001b[0m                                        \u001b[0mself\u001b[0m\u001b[0;34m.\u001b[0m\u001b[0m__batch_size\u001b[0m\u001b[0;34m,\u001b[0m\u001b[0;34m\u001b[0m\u001b[0m\n\u001b[1;32m   1035\u001b[0m                                        \u001b[0mself\u001b[0m\u001b[0;34m.\u001b[0m\u001b[0m__read_concern\u001b[0m\u001b[0;34m,\u001b[0m\u001b[0;34m\u001b[0m\u001b[0m\n\u001b[0;32m-> 1036\u001b[0;31m                                        self.__collation))\n\u001b[0m\u001b[1;32m   1037\u001b[0m             \u001b[0;32mif\u001b[0m \u001b[0;32mnot\u001b[0m \u001b[0mself\u001b[0m\u001b[0;34m.\u001b[0m\u001b[0m__id\u001b[0m\u001b[0;34m:\u001b[0m\u001b[0;34m\u001b[0m\u001b[0m\n\u001b[1;32m   1038\u001b[0m                 \u001b[0mself\u001b[0m\u001b[0;34m.\u001b[0m\u001b[0m__killed\u001b[0m \u001b[0;34m=\u001b[0m \u001b[0;32mTrue\u001b[0m\u001b[0;34m\u001b[0m\u001b[0m\n",
      "\u001b[0;32m~/anaconda2/envs/py3/lib/python3.6/site-packages/pymongo/cursor.py\u001b[0m in \u001b[0;36m__send_message\u001b[0;34m(self, operation)\u001b[0m\n\u001b[1;32m    871\u001b[0m             \u001b[0;32mtry\u001b[0m\u001b[0;34m:\u001b[0m\u001b[0;34m\u001b[0m\u001b[0m\n\u001b[1;32m    872\u001b[0m                 response = client._send_message_with_response(operation,\n\u001b[0;32m--> 873\u001b[0;31m                                                               **kwargs)\n\u001b[0m\u001b[1;32m    874\u001b[0m                 \u001b[0mself\u001b[0m\u001b[0;34m.\u001b[0m\u001b[0m__address\u001b[0m \u001b[0;34m=\u001b[0m \u001b[0mresponse\u001b[0m\u001b[0;34m.\u001b[0m\u001b[0maddress\u001b[0m\u001b[0;34m\u001b[0m\u001b[0m\n\u001b[1;32m    875\u001b[0m                 \u001b[0;32mif\u001b[0m \u001b[0mself\u001b[0m\u001b[0;34m.\u001b[0m\u001b[0m__exhaust\u001b[0m\u001b[0;34m:\u001b[0m\u001b[0;34m\u001b[0m\u001b[0m\n",
      "\u001b[0;32m~/anaconda2/envs/py3/lib/python3.6/site-packages/pymongo/mongo_client.py\u001b[0m in \u001b[0;36m_send_message_with_response\u001b[0;34m(self, operation, read_preference, exhaust, address)\u001b[0m\n\u001b[1;32m    903\u001b[0m             \u001b[0mself\u001b[0m\u001b[0;34m.\u001b[0m\u001b[0m__all_credentials\u001b[0m\u001b[0;34m,\u001b[0m\u001b[0;34m\u001b[0m\u001b[0m\n\u001b[1;32m    904\u001b[0m             \u001b[0mself\u001b[0m\u001b[0;34m.\u001b[0m\u001b[0m_event_listeners\u001b[0m\u001b[0;34m,\u001b[0m\u001b[0;34m\u001b[0m\u001b[0m\n\u001b[0;32m--> 905\u001b[0;31m             exhaust)\n\u001b[0m\u001b[1;32m    906\u001b[0m \u001b[0;34m\u001b[0m\u001b[0m\n\u001b[1;32m    907\u001b[0m     \u001b[0;32mdef\u001b[0m \u001b[0m_reset_on_error\u001b[0m\u001b[0;34m(\u001b[0m\u001b[0mself\u001b[0m\u001b[0;34m,\u001b[0m \u001b[0mserver\u001b[0m\u001b[0;34m,\u001b[0m \u001b[0mfunc\u001b[0m\u001b[0;34m,\u001b[0m \u001b[0;34m*\u001b[0m\u001b[0margs\u001b[0m\u001b[0;34m,\u001b[0m \u001b[0;34m**\u001b[0m\u001b[0mkwargs\u001b[0m\u001b[0;34m)\u001b[0m\u001b[0;34m:\u001b[0m\u001b[0;34m\u001b[0m\u001b[0m\n",
      "\u001b[0;32m~/anaconda2/envs/py3/lib/python3.6/site-packages/pymongo/mongo_client.py\u001b[0m in \u001b[0;36m_reset_on_error\u001b[0;34m(self, server, func, *args, **kwargs)\u001b[0m\n\u001b[1;32m    914\u001b[0m         \"\"\"\n\u001b[1;32m    915\u001b[0m         \u001b[0;32mtry\u001b[0m\u001b[0;34m:\u001b[0m\u001b[0;34m\u001b[0m\u001b[0m\n\u001b[0;32m--> 916\u001b[0;31m             \u001b[0;32mreturn\u001b[0m \u001b[0mfunc\u001b[0m\u001b[0;34m(\u001b[0m\u001b[0;34m*\u001b[0m\u001b[0margs\u001b[0m\u001b[0;34m,\u001b[0m \u001b[0;34m**\u001b[0m\u001b[0mkwargs\u001b[0m\u001b[0;34m)\u001b[0m\u001b[0;34m\u001b[0m\u001b[0m\n\u001b[0m\u001b[1;32m    917\u001b[0m         \u001b[0;32mexcept\u001b[0m \u001b[0mNetworkTimeout\u001b[0m\u001b[0;34m:\u001b[0m\u001b[0;34m\u001b[0m\u001b[0m\n\u001b[1;32m    918\u001b[0m             \u001b[0;31m# The socket has been closed. Don't reset the server.\u001b[0m\u001b[0;34m\u001b[0m\u001b[0;34m\u001b[0m\u001b[0m\n",
      "\u001b[0;32m~/anaconda2/envs/py3/lib/python3.6/site-packages/pymongo/server.py\u001b[0m in \u001b[0;36msend_message_with_response\u001b[0;34m(self, operation, set_slave_okay, all_credentials, listeners, exhaust)\u001b[0m\n\u001b[1;32m    134\u001b[0m             \u001b[0;32mtry\u001b[0m\u001b[0;34m:\u001b[0m\u001b[0;34m\u001b[0m\u001b[0m\n\u001b[1;32m    135\u001b[0m                 \u001b[0msock_info\u001b[0m\u001b[0;34m.\u001b[0m\u001b[0msend_message\u001b[0m\u001b[0;34m(\u001b[0m\u001b[0mdata\u001b[0m\u001b[0;34m,\u001b[0m \u001b[0mmax_doc_size\u001b[0m\u001b[0;34m)\u001b[0m\u001b[0;34m\u001b[0m\u001b[0m\n\u001b[0;32m--> 136\u001b[0;31m                 \u001b[0mresponse_data\u001b[0m \u001b[0;34m=\u001b[0m \u001b[0msock_info\u001b[0m\u001b[0;34m.\u001b[0m\u001b[0mreceive_message\u001b[0m\u001b[0;34m(\u001b[0m\u001b[0;36m1\u001b[0m\u001b[0;34m,\u001b[0m \u001b[0mrequest_id\u001b[0m\u001b[0;34m)\u001b[0m\u001b[0;34m\u001b[0m\u001b[0m\n\u001b[0m\u001b[1;32m    137\u001b[0m             \u001b[0;32mexcept\u001b[0m \u001b[0mException\u001b[0m \u001b[0;32mas\u001b[0m \u001b[0mexc\u001b[0m\u001b[0;34m:\u001b[0m\u001b[0;34m\u001b[0m\u001b[0m\n\u001b[1;32m    138\u001b[0m                 \u001b[0;32mif\u001b[0m \u001b[0mpublish\u001b[0m\u001b[0;34m:\u001b[0m\u001b[0;34m\u001b[0m\u001b[0m\n",
      "\u001b[0;32m~/anaconda2/envs/py3/lib/python3.6/site-packages/pymongo/pool.py\u001b[0m in \u001b[0;36mreceive_message\u001b[0;34m(self, operation, request_id)\u001b[0m\n\u001b[1;32m    450\u001b[0m                 self.sock, operation, request_id, self.max_message_size)\n\u001b[1;32m    451\u001b[0m         \u001b[0;32mexcept\u001b[0m \u001b[0mBaseException\u001b[0m \u001b[0;32mas\u001b[0m \u001b[0merror\u001b[0m\u001b[0;34m:\u001b[0m\u001b[0;34m\u001b[0m\u001b[0m\n\u001b[0;32m--> 452\u001b[0;31m             \u001b[0mself\u001b[0m\u001b[0;34m.\u001b[0m\u001b[0m_raise_connection_failure\u001b[0m\u001b[0;34m(\u001b[0m\u001b[0merror\u001b[0m\u001b[0;34m)\u001b[0m\u001b[0;34m\u001b[0m\u001b[0m\n\u001b[0m\u001b[1;32m    453\u001b[0m \u001b[0;34m\u001b[0m\u001b[0m\n\u001b[1;32m    454\u001b[0m     \u001b[0;32mdef\u001b[0m \u001b[0mlegacy_write\u001b[0m\u001b[0;34m(\u001b[0m\u001b[0mself\u001b[0m\u001b[0;34m,\u001b[0m \u001b[0mrequest_id\u001b[0m\u001b[0;34m,\u001b[0m \u001b[0mmsg\u001b[0m\u001b[0;34m,\u001b[0m \u001b[0mmax_doc_size\u001b[0m\u001b[0;34m,\u001b[0m \u001b[0mwith_last_error\u001b[0m\u001b[0;34m)\u001b[0m\u001b[0;34m:\u001b[0m\u001b[0;34m\u001b[0m\u001b[0m\n",
      "\u001b[0;32m~/anaconda2/envs/py3/lib/python3.6/site-packages/pymongo/pool.py\u001b[0m in \u001b[0;36m_raise_connection_failure\u001b[0;34m(self, error)\u001b[0m\n\u001b[1;32m    550\u001b[0m             \u001b[0m_raise_connection_failure\u001b[0m\u001b[0;34m(\u001b[0m\u001b[0mself\u001b[0m\u001b[0;34m.\u001b[0m\u001b[0maddress\u001b[0m\u001b[0;34m,\u001b[0m \u001b[0merror\u001b[0m\u001b[0;34m)\u001b[0m\u001b[0;34m\u001b[0m\u001b[0m\n\u001b[1;32m    551\u001b[0m         \u001b[0;32melse\u001b[0m\u001b[0;34m:\u001b[0m\u001b[0;34m\u001b[0m\u001b[0m\n\u001b[0;32m--> 552\u001b[0;31m             \u001b[0;32mraise\u001b[0m \u001b[0merror\u001b[0m\u001b[0;34m\u001b[0m\u001b[0m\n\u001b[0m\u001b[1;32m    553\u001b[0m \u001b[0;34m\u001b[0m\u001b[0m\n\u001b[1;32m    554\u001b[0m     \u001b[0;32mdef\u001b[0m \u001b[0m__eq__\u001b[0m\u001b[0;34m(\u001b[0m\u001b[0mself\u001b[0m\u001b[0;34m,\u001b[0m \u001b[0mother\u001b[0m\u001b[0;34m)\u001b[0m\u001b[0;34m:\u001b[0m\u001b[0;34m\u001b[0m\u001b[0m\n",
      "\u001b[0;32m~/anaconda2/envs/py3/lib/python3.6/site-packages/pymongo/pool.py\u001b[0m in \u001b[0;36mreceive_message\u001b[0;34m(self, operation, request_id)\u001b[0m\n\u001b[1;32m    448\u001b[0m         \u001b[0;32mtry\u001b[0m\u001b[0;34m:\u001b[0m\u001b[0;34m\u001b[0m\u001b[0m\n\u001b[1;32m    449\u001b[0m             return receive_message(\n\u001b[0;32m--> 450\u001b[0;31m                 self.sock, operation, request_id, self.max_message_size)\n\u001b[0m\u001b[1;32m    451\u001b[0m         \u001b[0;32mexcept\u001b[0m \u001b[0mBaseException\u001b[0m \u001b[0;32mas\u001b[0m \u001b[0merror\u001b[0m\u001b[0;34m:\u001b[0m\u001b[0;34m\u001b[0m\u001b[0m\n\u001b[1;32m    452\u001b[0m             \u001b[0mself\u001b[0m\u001b[0;34m.\u001b[0m\u001b[0m_raise_connection_failure\u001b[0m\u001b[0;34m(\u001b[0m\u001b[0merror\u001b[0m\u001b[0;34m)\u001b[0m\u001b[0;34m\u001b[0m\u001b[0m\n",
      "\u001b[0;32m~/anaconda2/envs/py3/lib/python3.6/site-packages/pymongo/network.py\u001b[0m in \u001b[0;36mreceive_message\u001b[0;34m(sock, operation, request_id, max_message_size)\u001b[0m\n\u001b[1;32m    135\u001b[0m         sock, operation, request_id, max_message_size=MAX_MESSAGE_SIZE):\n\u001b[1;32m    136\u001b[0m     \u001b[0;34m\"\"\"Receive a raw BSON message or raise socket.error.\"\"\"\u001b[0m\u001b[0;34m\u001b[0m\u001b[0m\n\u001b[0;32m--> 137\u001b[0;31m     \u001b[0mheader\u001b[0m \u001b[0;34m=\u001b[0m \u001b[0m_receive_data_on_socket\u001b[0m\u001b[0;34m(\u001b[0m\u001b[0msock\u001b[0m\u001b[0;34m,\u001b[0m \u001b[0;36m16\u001b[0m\u001b[0;34m)\u001b[0m\u001b[0;34m\u001b[0m\u001b[0m\n\u001b[0m\u001b[1;32m    138\u001b[0m     \u001b[0mlength\u001b[0m \u001b[0;34m=\u001b[0m \u001b[0m_UNPACK_INT\u001b[0m\u001b[0;34m(\u001b[0m\u001b[0mheader\u001b[0m\u001b[0;34m[\u001b[0m\u001b[0;34m:\u001b[0m\u001b[0;36m4\u001b[0m\u001b[0;34m]\u001b[0m\u001b[0;34m)\u001b[0m\u001b[0;34m[\u001b[0m\u001b[0;36m0\u001b[0m\u001b[0;34m]\u001b[0m\u001b[0;34m\u001b[0m\u001b[0m\n\u001b[1;32m    139\u001b[0m \u001b[0;34m\u001b[0m\u001b[0m\n",
      "\u001b[0;32m~/anaconda2/envs/py3/lib/python3.6/site-packages/pymongo/network.py\u001b[0m in \u001b[0;36m_receive_data_on_socket\u001b[0;34m(sock, length)\u001b[0m\n\u001b[1;32m    162\u001b[0m     \u001b[0;32mwhile\u001b[0m \u001b[0mlength\u001b[0m\u001b[0;34m:\u001b[0m\u001b[0;34m\u001b[0m\u001b[0m\n\u001b[1;32m    163\u001b[0m         \u001b[0;32mtry\u001b[0m\u001b[0;34m:\u001b[0m\u001b[0;34m\u001b[0m\u001b[0m\n\u001b[0;32m--> 164\u001b[0;31m             \u001b[0mchunk\u001b[0m \u001b[0;34m=\u001b[0m \u001b[0msock\u001b[0m\u001b[0;34m.\u001b[0m\u001b[0mrecv\u001b[0m\u001b[0;34m(\u001b[0m\u001b[0mlength\u001b[0m\u001b[0;34m)\u001b[0m\u001b[0;34m\u001b[0m\u001b[0m\n\u001b[0m\u001b[1;32m    165\u001b[0m         \u001b[0;32mexcept\u001b[0m \u001b[0;34m(\u001b[0m\u001b[0mIOError\u001b[0m\u001b[0;34m,\u001b[0m \u001b[0mOSError\u001b[0m\u001b[0;34m)\u001b[0m \u001b[0;32mas\u001b[0m \u001b[0mexc\u001b[0m\u001b[0;34m:\u001b[0m\u001b[0;34m\u001b[0m\u001b[0m\n\u001b[1;32m    166\u001b[0m             \u001b[0;32mif\u001b[0m \u001b[0m_errno_from_exception\u001b[0m\u001b[0;34m(\u001b[0m\u001b[0mexc\u001b[0m\u001b[0;34m)\u001b[0m \u001b[0;34m==\u001b[0m \u001b[0merrno\u001b[0m\u001b[0;34m.\u001b[0m\u001b[0mEINTR\u001b[0m\u001b[0;34m:\u001b[0m\u001b[0;34m\u001b[0m\u001b[0m\n",
      "\u001b[0;31mKeyboardInterrupt\u001b[0m: "
     ]
    }
   ],
   "source": [
    "count = new_results.count()\n",
    "count_num = 0\n",
    "for i in range(0, 3001):\n",
    "    if i % 500 == 0: print (i)\n",
    "    count_num += len(new_results[i].get('imageEntities',[]))"
   ]
  },
  {
   "cell_type": "code",
   "execution_count": 163,
   "metadata": {},
   "outputs": [
    {
     "data": {
      "text/plain": [
       "11239.051316227924"
      ]
     },
     "execution_count": 163,
     "metadata": {},
     "output_type": "execute_result"
    }
   ],
   "source": [
    "count_num/3001 * count"
   ]
  },
  {
   "cell_type": "code",
   "execution_count": 164,
   "metadata": {},
   "outputs": [
    {
     "data": {
      "text/plain": [
       "19373"
      ]
     },
     "execution_count": 164,
     "metadata": {},
     "output_type": "execute_result"
    }
   ],
   "source": [
    "count"
   ]
  },
  {
   "cell_type": "code",
   "execution_count": 165,
   "metadata": {},
   "outputs": [
    {
     "name": "stdout",
     "output_type": "stream",
     "text": [
      "0\n"
     ]
    },
    {
     "ename": "FileNotFoundError",
     "evalue": "[Errno 2] No such file or directory: 'pics/Home/Furniture/Kitchen & Dining Furniture/Bar Stools/000001_10752302.jpg'",
     "output_type": "error",
     "traceback": [
      "\u001b[0;31m---------------------------------------------------------------------------\u001b[0m",
      "\u001b[0;31mFileNotFoundError\u001b[0m                         Traceback (most recent call last)",
      "\u001b[0;32m<ipython-input-165-47a23f2dc389>\u001b[0m in \u001b[0;36m<module>\u001b[0;34m()\u001b[0m\n\u001b[1;32m      9\u001b[0m \u001b[0;34m\u001b[0m\u001b[0m\n\u001b[1;32m     10\u001b[0m         \u001b[0mfilename\u001b[0m \u001b[0;34m=\u001b[0m \u001b[0;34m'pics/{}/{:06}_{}.jpg'\u001b[0m\u001b[0;34m.\u001b[0m\u001b[0mformat\u001b[0m\u001b[0;34m(\u001b[0m\u001b[0mcat_path\u001b[0m\u001b[0;34m,\u001b[0m \u001b[0mimg_num\u001b[0m\u001b[0;34m,\u001b[0m\u001b[0mitem_id\u001b[0m\u001b[0;34m)\u001b[0m\u001b[0;34m\u001b[0m\u001b[0m\n\u001b[0;32m---> 11\u001b[0;31m         \u001b[0murllib\u001b[0m\u001b[0;34m.\u001b[0m\u001b[0mrequest\u001b[0m\u001b[0;34m.\u001b[0m\u001b[0murlretrieve\u001b[0m\u001b[0;34m(\u001b[0m\u001b[0murl\u001b[0m\u001b[0;34m,\u001b[0m \u001b[0mfilename\u001b[0m\u001b[0;34m)\u001b[0m\u001b[0;34m\u001b[0m\u001b[0m\n\u001b[0m\u001b[1;32m     12\u001b[0m         \u001b[0mimg_num\u001b[0m \u001b[0;34m+=\u001b[0m \u001b[0;36m1\u001b[0m\u001b[0;34m\u001b[0m\u001b[0m\n\u001b[1;32m     13\u001b[0m \u001b[0;34m\u001b[0m\u001b[0m\n",
      "\u001b[0;32m~/anaconda2/envs/py3/lib/python3.6/urllib/request.py\u001b[0m in \u001b[0;36murlretrieve\u001b[0;34m(url, filename, reporthook, data)\u001b[0m\n\u001b[1;32m    256\u001b[0m         \u001b[0;31m# Handle temporary file setup.\u001b[0m\u001b[0;34m\u001b[0m\u001b[0;34m\u001b[0m\u001b[0m\n\u001b[1;32m    257\u001b[0m         \u001b[0;32mif\u001b[0m \u001b[0mfilename\u001b[0m\u001b[0;34m:\u001b[0m\u001b[0;34m\u001b[0m\u001b[0m\n\u001b[0;32m--> 258\u001b[0;31m             \u001b[0mtfp\u001b[0m \u001b[0;34m=\u001b[0m \u001b[0mopen\u001b[0m\u001b[0;34m(\u001b[0m\u001b[0mfilename\u001b[0m\u001b[0;34m,\u001b[0m \u001b[0;34m'wb'\u001b[0m\u001b[0;34m)\u001b[0m\u001b[0;34m\u001b[0m\u001b[0m\n\u001b[0m\u001b[1;32m    259\u001b[0m         \u001b[0;32melse\u001b[0m\u001b[0;34m:\u001b[0m\u001b[0;34m\u001b[0m\u001b[0m\n\u001b[1;32m    260\u001b[0m             \u001b[0mtfp\u001b[0m \u001b[0;34m=\u001b[0m \u001b[0mtempfile\u001b[0m\u001b[0;34m.\u001b[0m\u001b[0mNamedTemporaryFile\u001b[0m\u001b[0;34m(\u001b[0m\u001b[0mdelete\u001b[0m\u001b[0;34m=\u001b[0m\u001b[0;32mFalse\u001b[0m\u001b[0;34m)\u001b[0m\u001b[0;34m\u001b[0m\u001b[0m\n",
      "\u001b[0;31mFileNotFoundError\u001b[0m: [Errno 2] No such file or directory: 'pics/Home/Furniture/Kitchen & Dining Furniture/Bar Stools/000001_10752302.jpg'"
     ]
    }
   ],
   "source": [
    "img_num = 1\n",
    "for i in range(100, 1000):\n",
    "    if i % 100 == 0: print (i)\n",
    "    item_id = new_results[i]['itemId']\n",
    "    for item in new_results[i]['imageEntities']:\n",
    "        time.sleep(0.2)\n",
    "        url = item['thumbnailImage']\n",
    "        \n",
    "        filename = 'pics/{:06}_{}.jpg'.format(img_num,item_id)\n",
    "        urllib.request.urlretrieve(url, filename)\n",
    "        img_num += 1\n",
    "    "
   ]
  },
  {
   "cell_type": "code",
   "execution_count": 115,
   "metadata": {},
   "outputs": [
    {
     "data": {
      "text/plain": [
       "('00000001.jpg', <http.client.HTTPMessage at 0x108f76b70>)"
      ]
     },
     "execution_count": 115,
     "metadata": {},
     "output_type": "execute_result"
    }
   ],
   "source": [
    "urllib.request.urlretrieve(\"https://i5.walmartimages.com/asr/b6090c4a-ffbe-44c1-99f0-065ebe4ea874_1.fd226a3e63ab622ebe447e78eeaae7e6.jpeg?odnHeight=100&odnWidth=100&odnBg=FFFFFF\", \"00000001.jpg\")"
   ]
  },
  {
   "cell_type": "code",
   "execution_count": 95,
   "metadata": {},
   "outputs": [
    {
     "ename": "TypeError",
     "evalue": "'CommandCursor' object does not support indexing",
     "output_type": "error",
     "traceback": [
      "\u001b[0;31m---------------------------------------------------------------------------\u001b[0m",
      "\u001b[0;31mTypeError\u001b[0m                                 Traceback (most recent call last)",
      "\u001b[0;32m<ipython-input-95-6caaab14b5ef>\u001b[0m in \u001b[0;36m<module>\u001b[0;34m()\u001b[0m\n\u001b[0;32m----> 1\u001b[0;31m \u001b[0mtest\u001b[0m\u001b[0;34m[\u001b[0m\u001b[0;36m0\u001b[0m\u001b[0;34m]\u001b[0m\u001b[0;34m\u001b[0m\u001b[0m\n\u001b[0m",
      "\u001b[0;31mTypeError\u001b[0m: 'CommandCursor' object does not support indexing"
     ]
    }
   ],
   "source": [
    "test[0]"
   ]
  },
  {
   "cell_type": "code",
   "execution_count": 142,
   "metadata": {},
   "outputs": [
    {
     "data": {
      "text/plain": [
       "{'_id': ObjectId('5a514a0195cdbc13b4a6075a'),\n",
       " 'imageEntities': [{'thumbnailImage': 'https://i5.walmartimages.com/asr/a0217b81-94fb-40cd-bf94-55c902e2c316_1.722c1e2ca1995143654aafa18f5c11bc.jpeg?odnHeight=100&odnWidth=100&odnBg=FFFFFF'},\n",
       "  {'thumbnailImage': 'https://i5.walmartimages.com/asr/3aae2107-9ff1-45c5-bb81-ca6a9f4f1d5e_1.62697bfa0d7986f206b3f6e13b481cf2.jpeg?odnHeight=100&odnWidth=100&odnBg=FFFFFF'},\n",
       "  {'thumbnailImage': 'https://i5.walmartimages.com/asr/5289dd13-5066-4cad-aef1-257372e21f37_1.5b5d7aa09f053bb65c35a9300aee8972.jpeg?odnHeight=100&odnWidth=100&odnBg=FFFFFF'},\n",
       "  {'thumbnailImage': 'https://i5.walmartimages.com/asr/31635dd7-f516-4ac8-bead-ffc8fe3a3358_1.a258c0089daacfbd74cb87abbbd6963e.jpeg?odnHeight=100&odnWidth=100&odnBg=FFFFFF'}],\n",
       " 'itemId': 13446521}"
      ]
     },
     "execution_count": 142,
     "metadata": {},
     "output_type": "execute_result"
    }
   ],
   "source": [
    "new_results[10]"
   ]
  },
  {
   "cell_type": "code",
   "execution_count": null,
   "metadata": {},
   "outputs": [],
   "source": [
    "csv.reader()"
   ]
  }
 ],
 "metadata": {
  "kernelspec": {
   "display_name": "Python 3",
   "language": "python",
   "name": "python3"
  },
  "language_info": {
   "codemirror_mode": {
    "name": "ipython",
    "version": 3
   },
   "file_extension": ".py",
   "mimetype": "text/x-python",
   "name": "python",
   "nbconvert_exporter": "python",
   "pygments_lexer": "ipython3",
   "version": "3.6.4"
  }
 },
 "nbformat": 4,
 "nbformat_minor": 2
}
